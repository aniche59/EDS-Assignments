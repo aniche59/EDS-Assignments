{
  "nbformat": 4,
  "nbformat_minor": 0,
  "metadata": {
    "colab": {
      "provenance": []
    },
    "kernelspec": {
      "name": "python3",
      "display_name": "Python 3"
    },
    "language_info": {
      "name": "python"
    }
  },
  "cells": [
    {
      "cell_type": "code",
      "source": [
        "import numpy as np"
      ],
      "metadata": {
        "id": "zsliuidfVOPb"
      },
      "execution_count": null,
      "outputs": []
    },
    {
      "cell_type": "code",
      "execution_count": null,
      "metadata": {
        "id": "fORghNQ5UGld"
      },
      "outputs": [],
      "source": [
        "arr1=np.array([[324,34,46,56,65,22],[325,56,23,66,32,44],[326,44,23,56,22,67,],[327,89,44,24,23,12],[328,45,62,11,89,45]])"
      ]
    },
    {
      "cell_type": "code",
      "source": [
        "arr1.dtype\n"
      ],
      "metadata": {
        "colab": {
          "base_uri": "https://localhost:8080/"
        },
        "id": "pR2QReEfVZfP",
        "outputId": "55e86765-d77c-47d0-fe74-618b49b0d9b4"
      },
      "execution_count": null,
      "outputs": [
        {
          "output_type": "execute_result",
          "data": {
            "text/plain": [
              "dtype('int64')"
            ]
          },
          "metadata": {},
          "execution_count": 9
        }
      ]
    },
    {
      "cell_type": "code",
      "source": [
        "#2 find total students\n",
        "(r,c)=arr1.shape\n",
        "print(\"Total Students: \",r)"
      ],
      "metadata": {
        "colab": {
          "base_uri": "https://localhost:8080/"
        },
        "id": "Ouh8LTZMVcOO",
        "outputId": "c50655ba-5165-4b47-f88a-3ac89b51cdf9"
      },
      "execution_count": null,
      "outputs": [
        {
          "output_type": "stream",
          "name": "stdout",
          "text": [
            "Total Students:  5\n"
          ]
        }
      ]
    },
    {
      "cell_type": "code",
      "source": [
        "#3 print all studetns roll nos\n",
        "print(\"All Student Roll No.\",arr1[::,0])"
      ],
      "metadata": {
        "colab": {
          "base_uri": "https://localhost:8080/"
        },
        "id": "ezJzC2MBVtqy",
        "outputId": "104f8d45-50a6-45f1-e504-a305f0a007be"
      },
      "execution_count": null,
      "outputs": [
        {
          "output_type": "stream",
          "name": "stdout",
          "text": [
            "All Student Roll No. [324 325 326 327 328]\n"
          ]
        }
      ]
    },
    {
      "cell_type": "code",
      "source": [
        "#4 print subject 1 marks\n",
        "print(\"Subject 1 marks:\",arr1[::,1])"
      ],
      "metadata": {
        "colab": {
          "base_uri": "https://localhost:8080/"
        },
        "id": "d4FifZVbWDJb",
        "outputId": "1df4c367-e09a-4f0d-839b-aa8adb1d275a"
      },
      "execution_count": null,
      "outputs": [
        {
          "output_type": "stream",
          "name": "stdout",
          "text": [
            "Subject 1 marks: [34 56 44 89 45]\n"
          ]
        }
      ]
    },
    {
      "cell_type": "code",
      "source": [
        "#5 find min marks of subject 2\n",
        "print(\"Min marks in subject 2:\",np.min(arr1[::,2]))"
      ],
      "metadata": {
        "colab": {
          "base_uri": "https://localhost:8080/"
        },
        "id": "DGdDXM7LYqrM",
        "outputId": "d072f3bb-d2eb-4353-8b87-c0557cfee4c1"
      },
      "execution_count": null,
      "outputs": [
        {
          "output_type": "stream",
          "name": "stdout",
          "text": [
            "Min marks in subject 2: 23\n"
          ]
        }
      ]
    },
    {
      "cell_type": "code",
      "source": [
        "#6 find max marks of subject 3\n",
        "print(\"Max marks in subject 3:\",np.max(arr1[::,3]))"
      ],
      "metadata": {
        "colab": {
          "base_uri": "https://localhost:8080/"
        },
        "id": "ZRh5qRgjY4Qi",
        "outputId": "a0265f21-4ba4-4f68-e04d-d718fa645687"
      },
      "execution_count": null,
      "outputs": [
        {
          "output_type": "stream",
          "name": "stdout",
          "text": [
            "Max marks in subject 3: 66\n"
          ]
        }
      ]
    },
    {
      "cell_type": "code",
      "source": [
        "#7 find marks of all subjects\n",
        "print(\"Marks of all subjects are:\\n\",arr1[::,1::])"
      ],
      "metadata": {
        "colab": {
          "base_uri": "https://localhost:8080/"
        },
        "id": "65RSWc2aZBbR",
        "outputId": "a3a4d81d-c807-4ea3-9e35-885f03c1b92e"
      },
      "execution_count": null,
      "outputs": [
        {
          "output_type": "stream",
          "name": "stdout",
          "text": [
            "Marks of all subjects are:\n",
            " [[34 46 56 65 22]\n",
            " [56 23 66 32 44]\n",
            " [44 23 56 22 67]\n",
            " [89 44 24 23 12]\n",
            " [45 62 11 89 45]]\n"
          ]
        }
      ]
    },
    {
      "cell_type": "code",
      "source": [
        "#8 find the avg marks of all students\n",
        "print(\"Sum of all subjects marks are:\\n\",arr1[::,0])\n",
        "avg=np.mean(arr1[::,1::],axis=1)\n",
        "print(np.round(avg,1))\n",
        "print(np.round(avg))\n"
      ],
      "metadata": {
        "colab": {
          "base_uri": "https://localhost:8080/"
        },
        "id": "jm-2N6G8Zce5",
        "outputId": "f14cb369-acbd-4a33-cfa5-e1dec40085ca"
      },
      "execution_count": null,
      "outputs": [
        {
          "output_type": "stream",
          "name": "stdout",
          "text": [
            "Sum of all subjects marks are:\n",
            " [324 325 326 327 328]\n",
            "[44.6 44.2 42.4 38.4 50.4]\n",
            "[45. 44. 42. 38. 50.]\n"
          ]
        }
      ]
    },
    {
      "cell_type": "code",
      "source": [
        "#9 find roll no who got min marks in subject 2\n",
        "i=np.argmin(arr1[:,2])\n",
        "print(\"Roll no who got minimum marks in subject 2\",arr1[i,0])\n"
      ],
      "metadata": {
        "colab": {
          "base_uri": "https://localhost:8080/"
        },
        "id": "7QV_tCaqaJkn",
        "outputId": "a8ca64de-7f94-4f24-fd50-3d011008cf49"
      },
      "execution_count": null,
      "outputs": [
        {
          "output_type": "stream",
          "name": "stdout",
          "text": [
            "Roll no who got minimum marks in subject 2 325\n"
          ]
        }
      ]
    },
    {
      "cell_type": "code",
      "source": [
        "def prepared_array():\n",
        "  rows,cold=map(int, input().split())\n",
        "  list1=[]\n",
        "  for _ in range(rows):\n",
        "    row = list(map(int, input().split())) #f\"Enter {cols) elements for row { + 1) separated by space:\n",
        "    list1.extend(row)\n",
        "  arr1= np.array (list1).reshape(rows, cols)\n",
        "  return arr1\n",
        "# Create and display the NumPy array\n",
        "arr1 =prepared_array()\n",
        "#Display array information\n",
        "#print(\"\\nNumPy Array:\")\n",
        "print(arr1)\n",
        "#print(\"\\nArray Information:\")\n",
        "print(arr1.ndim) #Dimensions (ndim)\n",
        "print(arr1.shape) #Shape:\n",
        "print(arr1.size) #Size"
      ],
      "metadata": {
        "id": "GgZpctApcL41"
      },
      "execution_count": null,
      "outputs": []
    },
    {
      "cell_type": "code",
      "source": [],
      "metadata": {
        "id": "a1oafjq2h2sp"
      },
      "execution_count": null,
      "outputs": []
    }
  ]
}