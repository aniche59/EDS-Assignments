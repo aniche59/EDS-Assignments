{
  "cells": [
    {
      "cell_type": "code",
      "execution_count": null,
      "metadata": {
        "colab": {
          "base_uri": "https://localhost:8080/"
        },
        "id": "uqdrSmQMJXcn",
        "outputId": "fd21be99-2257-4acf-be35-41e8ec5b0829"
      },
      "outputs": [
        {
          "name": "stdout",
          "output_type": "stream",
          "text": [
            "Enter the mass in kg: 20\n",
            "Enter the velocity in m/s: 5\n",
            "Momentum is:  100\n"
          ]
        }
      ],
      "source": [
        "# Assignment 1: To accept an object 'mass' in kg and velocity in m/s and display its momentum. Momentum is calculated as mass * velocity.\n",
        "mass=int(input(\"Enter the mass in kg: \"))\n",
        "velocity=int(input(\"Enter the velocity in m/s: \"))\n",
        "momn=mass*velocity\n",
        "print(\"Momentum is: \",momn)"
      ]
    },
    {
      "cell_type": "code",
      "execution_count": null,
      "metadata": {
        "colab": {
          "base_uri": "https://localhost:8080/"
        },
        "id": "FHweP8LHKkVW",
        "outputId": "e9f1458a-920f-41e1-a658-992c5cf241ff"
      },
      "outputs": [
        {
          "name": "stdout",
          "output_type": "stream",
          "text": [
            "Enter a number to find square: 5\n",
            "Square of given number is: (a*a)\n"
          ]
        }
      ],
      "source": [
        "# Assignment 2: Display square, square root and cube root of number\n",
        "import math\n",
        "a=int(input(\"Enter a number to find square: \"))\n",
        "print(\"Square of given number is: (a*a)\")\n",
        "\n"
      ]
    },
    {
      "cell_type": "code",
      "execution_count": null,
      "metadata": {
        "colab": {
          "base_uri": "https://localhost:8080/"
        },
        "id": "z4ZtUPJsMYkv",
        "outputId": "847210a8-6f40-4852-de52-092dbdf7c647"
      },
      "outputs": [
        {
          "name": "stdout",
          "output_type": "stream",
          "text": [
            "Enter a number to find square root: 25\n",
            "Square root of given number is:  5.0\n"
          ]
        }
      ],
      "source": [
        "b=int(input(\"Enter a number to find square root: \"))\n",
        "print(\"Square root of given number is: \",math.sqrt(b))\n"
      ]
    },
    {
      "cell_type": "code",
      "execution_count": null,
      "metadata": {
        "colab": {
          "base_uri": "https://localhost:8080/"
        },
        "id": "DfTud2lUNJ7O",
        "outputId": "49d9b93b-9754-4706-b7e2-373a95d26319"
      },
      "outputs": [
        {
          "name": "stdout",
          "output_type": "stream",
          "text": [
            "Enter a number to find the cube root: 125\n",
            "Cube root of given number is:  4.999999999999999\n"
          ]
        }
      ],
      "source": [
        "c=int(input(\"Enter a number to find the cube root: \"))\n",
        "print(\"Cube root of given number is: \",pow(c,1/3))"
      ]
    },
    {
      "cell_type": "code",
      "execution_count": null,
      "metadata": {
        "colab": {
          "background_save": true
        },
        "id": "2IA8HzRGOFoW"
      },
      "outputs": [],
      "source": [
        "# Assignment 3: To accept students' 5 courses marks and compute his or her result. Student is passing if they score marks >= 40 in each course. If student scores aggregate > 75% then \"Distinction\" . If average >=60 and <75 \"First class\". If average <60 and >=50 then \"First Division\". If average <50 and >=40 then \"Third Division\". else \"Fail\". if math and phy and che and bio and eng print \"Pass With\"\n",
        "mathmarks=int(input(\"Enter the marks of Math: \"))\n",
        "phymarks=int(input(\"Enter the marks of Physics: \"))\n",
        "chemarks=int(input(\"Enter the marks of Chemistry: \"))\n",
        "biomarks=int(input(\"Enter the marks of Biology: \"))\n",
        "engmarks=int(input(\"Enter the marks of English: \"))\n",
        "avg=mathmarks+chemarks+phymarks+engmarks+biomarks/5\n",
        "if(mathmarks and engmarks and phymarks and chemakrs and biomarks):\n",
        "  print(\"Pass with \")\n",
        "if(avg>=75):\n",
        "  print(\"Distinction\")\n",
        "elif(avg<75 and avg>=60):\n",
        "  print(\"First Division\")\n",
        "elif(avg<60 and avg>=50):\n",
        "  print(\"Second Division\")\n",
        "elif(avg<50 and avg>40):\n",
        "  print(\"Third Division\")\n",
        "else:\n",
        "  print(Fail)"
      ]
    },
    {
      "cell_type": "code",
      "execution_count": null,
      "metadata": {
        "id": "KQ_y6EqQR_P3"
      },
      "outputs": [],
      "source": []
    }
  ],
  "metadata": {
    "colab": {
      "provenance": []
    },
    "kernelspec": {
      "display_name": "Python 3",
      "name": "python3"
    },
    "language_info": {
      "name": "python"
    }
  },
  "nbformat": 4,
  "nbformat_minor": 0
}