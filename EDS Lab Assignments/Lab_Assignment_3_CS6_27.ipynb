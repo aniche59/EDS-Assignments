{
  "nbformat": 4,
  "nbformat_minor": 0,
  "metadata": {
    "colab": {
      "provenance": []
    },
    "kernelspec": {
      "name": "python3",
      "display_name": "Python 3"
    },
    "language_info": {
      "name": "python"
    }
  },
  "cells": [
    {
      "cell_type": "code",
      "source": [],
      "metadata": {
        "id": "kCaHHUScmgS_"
      },
      "execution_count": null,
      "outputs": []
    },
    {
      "cell_type": "code",
      "execution_count": null,
      "metadata": {
        "colab": {
          "base_uri": "https://localhost:8080/"
        },
        "id": "MYH-w-TKkCJ2",
        "outputId": "17e4d62a-f218-4dba-eb5d-57585d360987"
      },
      "outputs": [
        {
          "output_type": "stream",
          "name": "stdout",
          "text": [
            "Enter the First Matrix A (3 rows, 3 columns): \n",
            "1 2 3 \n",
            "4 5 6\n",
            "7 8 6\n",
            "Enter the Second Matrix B (3 rows, 3 columns): \n",
            "11 12 13\n",
            "14 15 16\n",
            "17 18 19\n",
            "Addition of (A+B) is: \n",
            "[[12 14 16]\n",
            " [18 20 22]\n",
            " [24 26 25]]\n",
            "Subtraction of (A-B) is: \n",
            "[[-10 -10 -10]\n",
            " [-10 -10 -10]\n",
            " [-10 -10 -13]]\n",
            "Multiplication of (A*B) is: \n",
            "[[ 11  24  39]\n",
            " [ 56  75  96]\n",
            " [119 144 114]]\n",
            "Dot of (A*B): \n",
            "[[ 90  96 102]\n",
            " [216 231 246]\n",
            " [291 312 333]]\n",
            "Transpose of A: \n",
            "[[1 4 7]\n",
            " [2 5 8]\n",
            " [3 6 6]]\n",
            "Transpose of B: \n",
            "[[11 14 17]\n",
            " [12 15 18]\n",
            " [13 16 19]]\n"
          ]
        }
      ],
      "source": [
        "import numpy as np\n",
        "\n",
        "# Inputting the matrices\n",
        "print(\"Enter the First Matrix A (3 rows, 3 columns): \")\n",
        "matrix_a = np.array([list(map(int, input().split())) for i in range(3)])\n",
        "print(\"Enter the Second Matrix B (3 rows, 3 columns): \")\n",
        "matrix_b = np.array([list(map(int, input().split())) for i in range(3)])\n",
        "\n",
        "# Addition\n",
        "add_result = np.add(matrix_a, matrix_b)\n",
        "print(\"Addition of (A+B) is: \")\n",
        "print(add_result)\n",
        "\n",
        "# Subtraction\n",
        "sub_result = np.subtract(matrix_a, matrix_b)\n",
        "print(\"Subtraction of (A-B) is: \")\n",
        "print(sub_result)\n",
        "\n",
        "# Multiplication\n",
        "mul_result = np.multiply(matrix_a, matrix_b)\n",
        "print(\"Multiplication of (A*B) is: \")\n",
        "print(mul_result)\n",
        "\n",
        "\n",
        "# Dot\n",
        "dot_result = np.dot(matrix_a, matrix_b)\n",
        "print(\"Dot of (A*B): \")\n",
        "print(dot_result)\n",
        "\n",
        "# Transpose\n",
        "t_a = matrix_a.T\n",
        "t_b = matrix_b.T\n",
        "print(\"Transpose of A: \")\n",
        "print(t_a)\n",
        "print(\"Transpose of B: \")\n",
        "print(t_b)"
      ]
    },
    {
      "cell_type": "code",
      "source": [
        "np.hstack((matrix_a, matrix_b))"
      ],
      "metadata": {
        "colab": {
          "base_uri": "https://localhost:8080/"
        },
        "id": "nMiojbGomjCP",
        "outputId": "d7908ad4-e754-4bbe-f1f5-e62b2f07661e"
      },
      "execution_count": null,
      "outputs": [
        {
          "output_type": "execute_result",
          "data": {
            "text/plain": [
              "array([[ 1,  2,  3, 11, 12, 13],\n",
              "       [ 4,  5,  6, 14, 15, 16],\n",
              "       [ 7,  8,  6, 17, 18, 19]])"
            ]
          },
          "metadata": {},
          "execution_count": 9
        }
      ]
    },
    {
      "cell_type": "code",
      "source": [
        "np.vstack((matrix_a, matrix_b))"
      ],
      "metadata": {
        "colab": {
          "base_uri": "https://localhost:8080/"
        },
        "id": "jWuI8R-jjTkH",
        "outputId": "4cdffd78-701c-4477-b1f6-e9215072e7b2"
      },
      "execution_count": null,
      "outputs": [
        {
          "output_type": "execute_result",
          "data": {
            "text/plain": [
              "array([[ 1,  2,  3],\n",
              "       [ 4,  5,  6],\n",
              "       [ 7,  8,  6],\n",
              "       [11, 12, 13],\n",
              "       [14, 15, 16],\n",
              "       [17, 18, 19]])"
            ]
          },
          "metadata": {},
          "execution_count": 10
        }
      ]
    },
    {
      "cell_type": "code",
      "source": [],
      "metadata": {
        "id": "-svaKP46mrM3"
      },
      "execution_count": null,
      "outputs": []
    }
  ]
}